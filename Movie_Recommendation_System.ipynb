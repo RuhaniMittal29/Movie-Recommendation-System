{
 "cells": [
  {
   "cell_type": "markdown",
   "id": "7492409a-5d20-4a27-a403-6d66c762a1c5",
   "metadata": {},
   "source": [
    "<h1>Movie Recommendation System</h1>"
   ]
  },
  {
   "cell_type": "markdown",
   "id": "77962ac8-efdb-408e-8474-4a505b7c1ed7",
   "metadata": {},
   "source": [
    "<h2>Introduction</h2>"
   ]
  },
  {
   "cell_type": "markdown",
   "id": "73547d20-8b75-40f8-96ad-be96f3aa1deb",
   "metadata": {},
   "source": [
    "In the age of digital entertainment, finding the perfect movie to watch can be a daunting task given the vast array of options available. A Movie Recommendation System aims to simplify this process by leveraging data to suggest movies that align with the user's preferences. This project focuses on building a recommendation system that provides personalized movie suggestions based on various attributes such as genres, ratings, and other metadata.\n",
    "\n",
    "The main objective of this project is to develop a system that analyzes a movie dataset to find films similar to a given movie. This system leverages cosine similarity, a metric that measures how similar movies are based on their attributes, to deliver accurate recommendations.\n",
    "\n",
    "The dataset was derived from Kaggle https://www.kaggle.com/code/thedevastator/imdb-5000-movies-multiple-genres-dataset. It displays different about each movie like director, actors, genres etc. The raw dataset contains ten columns with a mix of categorical and quantitative values, offering a comprehensive view of each movie’s attributes."
   ]
  },
  {
   "cell_type": "code",
   "execution_count": 1,
   "id": "8a7719f0-6803-4e78-bba1-a042a27dc5a7",
   "metadata": {},
   "outputs": [],
   "source": [
    "#Necessary libraries were loaded\n",
    "\n",
    "import pandas as pd\n",
    "import numpy as np\n",
    "import seaborn as sns\n",
    "import matplotlib.pyplot as plt\n",
    "from sklearn.metrics.pairwise import cosine_similarity"
   ]
  },
  {
   "cell_type": "markdown",
   "id": "56bc9690-de15-4fb9-adc2-fd28b3e63715",
   "metadata": {},
   "source": [
    "<h2>Loading Data</h2>"
   ]
  },
  {
   "cell_type": "markdown",
   "id": "7c3189bd-39d8-4b6c-9807-70a01ef872d9",
   "metadata": {},
   "source": [
    "Dataset from the web was loaded."
   ]
  },
  {
   "cell_type": "code",
   "execution_count": 2,
   "id": "d5a6b4e8-462f-4615-83ac-24c024123f2b",
   "metadata": {},
   "outputs": [
    {
     "data": {
      "text/html": [
       "<div>\n",
       "<style scoped>\n",
       "    .dataframe tbody tr th:only-of-type {\n",
       "        vertical-align: middle;\n",
       "    }\n",
       "\n",
       "    .dataframe tbody tr th {\n",
       "        vertical-align: top;\n",
       "    }\n",
       "\n",
       "    .dataframe thead th {\n",
       "        text-align: right;\n",
       "    }\n",
       "</style>\n",
       "<table border=\"1\" class=\"dataframe\">\n",
       "  <thead>\n",
       "    <tr style=\"text-align: right;\">\n",
       "      <th></th>\n",
       "      <th>Movie_Title</th>\n",
       "      <th>Year</th>\n",
       "      <th>Director</th>\n",
       "      <th>Actors</th>\n",
       "      <th>Rating</th>\n",
       "      <th>Runtime(Mins)</th>\n",
       "      <th>Censor</th>\n",
       "      <th>Total_Gross</th>\n",
       "      <th>main_genre</th>\n",
       "      <th>side_genre</th>\n",
       "    </tr>\n",
       "  </thead>\n",
       "  <tbody>\n",
       "    <tr>\n",
       "      <th>0</th>\n",
       "      <td>Kantara</td>\n",
       "      <td>2022</td>\n",
       "      <td>Rishab Shetty</td>\n",
       "      <td>Rishab Shetty, Sapthami Gowda, Kishore Kumar G...</td>\n",
       "      <td>9.3</td>\n",
       "      <td>148</td>\n",
       "      <td>UA</td>\n",
       "      <td>Gross Unkown</td>\n",
       "      <td>Action</td>\n",
       "      <td>Adventure,  Drama</td>\n",
       "    </tr>\n",
       "    <tr>\n",
       "      <th>1</th>\n",
       "      <td>The Dark Knight</td>\n",
       "      <td>2008</td>\n",
       "      <td>Christopher Nolan</td>\n",
       "      <td>Christian Bale, Heath Ledger, Aaron Eckhart, M...</td>\n",
       "      <td>9.0</td>\n",
       "      <td>152</td>\n",
       "      <td>UA</td>\n",
       "      <td>$534.86M</td>\n",
       "      <td>Action</td>\n",
       "      <td>Crime,  Drama</td>\n",
       "    </tr>\n",
       "    <tr>\n",
       "      <th>2</th>\n",
       "      <td>The Lord of the Rings: The Return of the King</td>\n",
       "      <td>2003</td>\n",
       "      <td>Peter Jackson</td>\n",
       "      <td>Elijah Wood, Viggo Mortensen, Ian McKellen, Or...</td>\n",
       "      <td>9.0</td>\n",
       "      <td>201</td>\n",
       "      <td>U</td>\n",
       "      <td>$377.85M</td>\n",
       "      <td>Action</td>\n",
       "      <td>Adventure,  Drama</td>\n",
       "    </tr>\n",
       "    <tr>\n",
       "      <th>3</th>\n",
       "      <td>Inception</td>\n",
       "      <td>2010</td>\n",
       "      <td>Christopher Nolan</td>\n",
       "      <td>Leonardo DiCaprio, Joseph Gordon-Levitt, Ellio...</td>\n",
       "      <td>8.8</td>\n",
       "      <td>148</td>\n",
       "      <td>UA</td>\n",
       "      <td>$292.58M</td>\n",
       "      <td>Action</td>\n",
       "      <td>Adventure,  Sci-Fi</td>\n",
       "    </tr>\n",
       "    <tr>\n",
       "      <th>4</th>\n",
       "      <td>The Lord of the Rings: The Two Towers</td>\n",
       "      <td>2002</td>\n",
       "      <td>Peter Jackson</td>\n",
       "      <td>Elijah Wood, Ian McKellen, Viggo Mortensen, Or...</td>\n",
       "      <td>8.8</td>\n",
       "      <td>179</td>\n",
       "      <td>UA</td>\n",
       "      <td>$342.55M</td>\n",
       "      <td>Action</td>\n",
       "      <td>Adventure,  Drama</td>\n",
       "    </tr>\n",
       "  </tbody>\n",
       "</table>\n",
       "</div>"
      ],
      "text/plain": [
       "                                     Movie_Title  Year           Director  \\\n",
       "0                                        Kantara  2022      Rishab Shetty   \n",
       "1                                The Dark Knight  2008  Christopher Nolan   \n",
       "2  The Lord of the Rings: The Return of the King  2003      Peter Jackson   \n",
       "3                                      Inception  2010  Christopher Nolan   \n",
       "4          The Lord of the Rings: The Two Towers  2002      Peter Jackson   \n",
       "\n",
       "                                              Actors  Rating  Runtime(Mins)  \\\n",
       "0  Rishab Shetty, Sapthami Gowda, Kishore Kumar G...     9.3            148   \n",
       "1  Christian Bale, Heath Ledger, Aaron Eckhart, M...     9.0            152   \n",
       "2  Elijah Wood, Viggo Mortensen, Ian McKellen, Or...     9.0            201   \n",
       "3  Leonardo DiCaprio, Joseph Gordon-Levitt, Ellio...     8.8            148   \n",
       "4  Elijah Wood, Ian McKellen, Viggo Mortensen, Or...     8.8            179   \n",
       "\n",
       "  Censor   Total_Gross main_genre           side_genre  \n",
       "0     UA  Gross Unkown     Action    Adventure,  Drama  \n",
       "1     UA      $534.86M     Action        Crime,  Drama  \n",
       "2      U      $377.85M     Action    Adventure,  Drama  \n",
       "3     UA      $292.58M     Action   Adventure,  Sci-Fi  \n",
       "4     UA      $342.55M     Action    Adventure,  Drama  "
      ]
     },
     "execution_count": 2,
     "metadata": {},
     "output_type": "execute_result"
    }
   ],
   "source": [
    "df = pd.read_csv('IMDb_Movies.csv')\n",
    "df.head()"
   ]
  },
  {
   "cell_type": "markdown",
   "id": "b0aacd8f-691b-4964-a12d-aa18f2dda5bd",
   "metadata": {},
   "source": [
    "The dataset used has ***5562*** unique movies and the following columns:\n",
    "- `Movie_Title` : The title of the movie.\n",
    "- `Year` : The year the movie was released.\n",
    "- `Director` : The director of the movie.\n",
    "- `Actors` : The cast of the movie.\n",
    "- `Rating` : The average rating of the movie.\n",
    "- `Runtime (Mins)` : The duration of the movie.\n",
    "- `Censor` : The age rating of the movie.\n",
    "- `Total_Gross` : The total revenue generated by the movie.\n",
    "- `main_genre` : The primary genre of the movie.\n",
    "- `side_genre` : Any additional genres associated with the movie."
   ]
  },
  {
   "cell_type": "markdown",
   "id": "566d0ba1-85ba-4c3a-8a57-4becf0d914a5",
   "metadata": {},
   "source": [
    "\n",
    "<h2>Tidying the Dataset</h2>"
   ]
  },
  {
   "cell_type": "markdown",
   "id": "fcfcbbc2-5900-4f42-8148-541c694e63fc",
   "metadata": {},
   "source": [
    "In the dataset, we counted the number of missing (`NA`) values in each column."
   ]
  },
  {
   "cell_type": "code",
   "execution_count": 3,
   "id": "916e0fc9-3b27-4766-8c5b-10eb8b93deda",
   "metadata": {},
   "outputs": [
    {
     "data": {
      "text/plain": [
       "Movie_Title      0\n",
       "Year             0\n",
       "Director         0\n",
       "Actors           0\n",
       "Rating           0\n",
       "Runtime(Mins)    0\n",
       "Censor           0\n",
       "Total_Gross      0\n",
       "main_genre       0\n",
       "side_genre       0\n",
       "dtype: int64"
      ]
     },
     "execution_count": 3,
     "metadata": {},
     "output_type": "execute_result"
    }
   ],
   "source": [
    "df.isnull().sum()"
   ]
  },
  {
   "cell_type": "markdown",
   "id": "b9edf460-1d26-4a0a-81bf-29ee346c05da",
   "metadata": {},
   "source": [
    "Since there are no columns with `NA` values, we do not need to drop any rows from the dataset.\n",
    "\n",
    "However, in the dataset above we notice that the movies have some columns that are not very relevant for recommending movies. So, we drop the following columns:\n",
    "- `Runtime(Mins)`\n",
    "- `Total_Gross`\n",
    "\n",
    "Moreover, the `Censor` column has many values that have the same meaning but have been written differently. So, we standardized these values to ensure consistency across the dataset."
   ]
  },
  {
   "cell_type": "code",
   "execution_count": 4,
   "id": "64a77a04-65b3-470c-98cd-2321eeb5803f",
   "metadata": {},
   "outputs": [
    {
     "data": {
      "text/html": [
       "<div>\n",
       "<style scoped>\n",
       "    .dataframe tbody tr th:only-of-type {\n",
       "        vertical-align: middle;\n",
       "    }\n",
       "\n",
       "    .dataframe tbody tr th {\n",
       "        vertical-align: top;\n",
       "    }\n",
       "\n",
       "    .dataframe thead th {\n",
       "        text-align: right;\n",
       "    }\n",
       "</style>\n",
       "<table border=\"1\" class=\"dataframe\">\n",
       "  <thead>\n",
       "    <tr style=\"text-align: right;\">\n",
       "      <th></th>\n",
       "      <th>Movie_Title</th>\n",
       "      <th>Year</th>\n",
       "      <th>Director</th>\n",
       "      <th>Actors</th>\n",
       "      <th>Rating</th>\n",
       "      <th>Censor</th>\n",
       "      <th>main_genre</th>\n",
       "      <th>side_genre</th>\n",
       "    </tr>\n",
       "  </thead>\n",
       "  <tbody>\n",
       "    <tr>\n",
       "      <th>0</th>\n",
       "      <td>Kantara</td>\n",
       "      <td>2022</td>\n",
       "      <td>Rishab Shetty</td>\n",
       "      <td>Rishab Shetty, Sapthami Gowda, Kishore Kumar G...</td>\n",
       "      <td>9.3</td>\n",
       "      <td>UA</td>\n",
       "      <td>Action</td>\n",
       "      <td>Adventure,  Drama</td>\n",
       "    </tr>\n",
       "    <tr>\n",
       "      <th>1</th>\n",
       "      <td>The Dark Knight</td>\n",
       "      <td>2008</td>\n",
       "      <td>Christopher Nolan</td>\n",
       "      <td>Christian Bale, Heath Ledger, Aaron Eckhart, M...</td>\n",
       "      <td>9.0</td>\n",
       "      <td>UA</td>\n",
       "      <td>Action</td>\n",
       "      <td>Crime,  Drama</td>\n",
       "    </tr>\n",
       "    <tr>\n",
       "      <th>2</th>\n",
       "      <td>The Lord of the Rings: The Return of the King</td>\n",
       "      <td>2003</td>\n",
       "      <td>Peter Jackson</td>\n",
       "      <td>Elijah Wood, Viggo Mortensen, Ian McKellen, Or...</td>\n",
       "      <td>9.0</td>\n",
       "      <td>U</td>\n",
       "      <td>Action</td>\n",
       "      <td>Adventure,  Drama</td>\n",
       "    </tr>\n",
       "    <tr>\n",
       "      <th>3</th>\n",
       "      <td>Inception</td>\n",
       "      <td>2010</td>\n",
       "      <td>Christopher Nolan</td>\n",
       "      <td>Leonardo DiCaprio, Joseph Gordon-Levitt, Ellio...</td>\n",
       "      <td>8.8</td>\n",
       "      <td>UA</td>\n",
       "      <td>Action</td>\n",
       "      <td>Adventure,  Sci-Fi</td>\n",
       "    </tr>\n",
       "    <tr>\n",
       "      <th>4</th>\n",
       "      <td>The Lord of the Rings: The Two Towers</td>\n",
       "      <td>2002</td>\n",
       "      <td>Peter Jackson</td>\n",
       "      <td>Elijah Wood, Ian McKellen, Viggo Mortensen, Or...</td>\n",
       "      <td>8.8</td>\n",
       "      <td>UA</td>\n",
       "      <td>Action</td>\n",
       "      <td>Adventure,  Drama</td>\n",
       "    </tr>\n",
       "  </tbody>\n",
       "</table>\n",
       "</div>"
      ],
      "text/plain": [
       "                                     Movie_Title  Year           Director  \\\n",
       "0                                        Kantara  2022      Rishab Shetty   \n",
       "1                                The Dark Knight  2008  Christopher Nolan   \n",
       "2  The Lord of the Rings: The Return of the King  2003      Peter Jackson   \n",
       "3                                      Inception  2010  Christopher Nolan   \n",
       "4          The Lord of the Rings: The Two Towers  2002      Peter Jackson   \n",
       "\n",
       "                                              Actors  Rating Censor  \\\n",
       "0  Rishab Shetty, Sapthami Gowda, Kishore Kumar G...     9.3     UA   \n",
       "1  Christian Bale, Heath Ledger, Aaron Eckhart, M...     9.0     UA   \n",
       "2  Elijah Wood, Viggo Mortensen, Ian McKellen, Or...     9.0      U   \n",
       "3  Leonardo DiCaprio, Joseph Gordon-Levitt, Ellio...     8.8     UA   \n",
       "4  Elijah Wood, Ian McKellen, Viggo Mortensen, Or...     8.8     UA   \n",
       "\n",
       "  main_genre           side_genre  \n",
       "0     Action    Adventure,  Drama  \n",
       "1     Action        Crime,  Drama  \n",
       "2     Action    Adventure,  Drama  \n",
       "3     Action   Adventure,  Sci-Fi  \n",
       "4     Action    Adventure,  Drama  "
      ]
     },
     "execution_count": 4,
     "metadata": {},
     "output_type": "execute_result"
    }
   ],
   "source": [
    "# Dropped the columns that weren't necessary for the recommendation\n",
    "df = df.drop(['Runtime(Mins)', 'Total_Gross'], axis=1)\n",
    "\n",
    "#Tidying up the Censor column\n",
    "df['Censor'] = df['Censor'].replace('18+', 'R')\n",
    "df['Censor'] = df['Censor'].replace('18', 'A')\n",
    "df['Censor'] = df['Censor'].replace('R', 'A')\n",
    "df['Censor'] = df['Censor'].replace('PG', 'UA')\n",
    "df['Censor'] = df['Censor'].replace('All', 'U')\n",
    "df['Censor'] = df['Censor'].replace('Unrated', 'Not Rated')\n",
    "df['Censor'] = df['Censor'].replace('PG-13', '13')\n",
    "df['Censor'] = df['Censor'].replace('12+', '13')\n",
    "df = df[df['Censor'] != '(Banned)']\n",
    "\n",
    "df.head()"
   ]
  },
  {
   "cell_type": "markdown",
   "id": "8d28fd09-ff6f-4ce3-94da-2b1e73e3b6d8",
   "metadata": {},
   "source": [
    "<h2>Data Visualization</h2>"
   ]
  },
  {
   "cell_type": "code",
   "execution_count": 17,
   "id": "21848167-f74f-4242-b5a7-4d31554c81e2",
   "metadata": {},
   "outputs": [
    {
     "data": {
      "image/png": "[encoded data removed]",
      "text/plain": [
       "<Figure size 1400x400 with 2 Axes>"
      ]
     },
     "metadata": {},
     "output_type": "display_data"
    }
   ],
   "source": [
    "# Data preparation for main genres\n",
    "df['main_genre'] = df['main_genre'].str.split(',')\n",
    "df = df.explode('main_genre')\n",
    "df['main_genre'] = df['main_genre'].str.strip()\n",
    "\n",
    "\n",
    "# Count genres\n",
    "genre_counts = df['main_genre'].value_counts()\n",
    "genre_counts_df = genre_counts.reset_index()\n",
    "genre_counts_df.columns = ['Genre', 'Count']\n",
    "\n",
    "# Data preparation for side genres\n",
    "df_copy = df.copy()\n",
    "df_copy['side_genre'] = df_copy['side_genre'].str.split(', ')\n",
    "side_genre_df = df_copy.explode('side_genre')\n",
    "\n",
    "side_genre_counts = side_genre_df['side_genre'].value_counts()\n",
    "side_genre_counts_df = side_genre_counts.reset_index()\n",
    "side_genre_counts_df.columns = ['Side Genre', 'Count']\n",
    "\n",
    "# Plotting\n",
    "fig, axes = plt.subplots(1, 2, figsize=(14, 4))\n",
    "\n",
    "# Top 10 main genres\n",
    "top_genres = genre_counts_df.head(10)\n",
    "sns.barplot(x='Count', y='Genre', data=top_genres, palette='mako', ax=axes[0], hue='Genre', legend=False)\n",
    "axes[0].set_title('Top 10 Genres')\n",
    "axes[0].set_xlabel('Count')\n",
    "axes[0].set_ylabel('Genre')\n",
    "\n",
    "# Top 10 side genres\n",
    "top_side_genres = side_genre_counts_df.head(10)\n",
    "sns.barplot(x='Count', y='Side Genre', data=top_side_genres, palette='mako', ax=axes[1], hue='Side Genre', legend=False)\n",
    "axes[1].set_title('Top 10 Side Genres')\n",
    "axes[1].set_xlabel('Count')\n",
    "axes[1].set_ylabel('Side Genre')\n",
    "\n",
    "# Adjust layout\n",
    "plt.tight_layout()\n",
    "plt.show()"
   ]
  },
  {
   "cell_type": "markdown",
   "id": "58d3abb1-e5eb-48b0-836a-6c559a81c6b9",
   "metadata": {},
   "source": [
    "I processed and visualized the top 10 main and side genres. This helped me identify the most common genres in the dataset and understand the trends."
   ]
  },
  {
   "cell_type": "code",
   "execution_count": 7,
   "id": "2b0933c1-64d8-411b-8051-c61e55679a8f",
   "metadata": {},
   "outputs": [
    {
     "data": {
      "image/png": "[encoded data removed]",
      "text/plain": [
       "<Figure size 3500x450 with 1 Axes>"
      ]
     },
     "metadata": {},
     "output_type": "display_data"
    }
   ],
   "source": [
    "plt.figure(figsize=(35, 4.5))\n",
    "\n",
    "year_counts = df['Year'].value_counts().sort_values(ascending=False)\n",
    "top_50_years = year_counts.head(50)\n",
    "df_top_50 = df[df['Year'].isin(top_50_years.index)]\n",
    "\n",
    "sns.countplot(x='Year', data=df_top_50, palette='rocket_r', order=top_50_years.index, hue='Year', legend=False)\n",
    "\n",
    "plt.title('Frequency of Movies which were released in different years')\n",
    "plt.xlabel('Count')\n",
    "plt.ylabel('Release Year')\n",
    "plt.show()"
   ]
  },
  {
   "cell_type": "code",
   "execution_count": 8,
   "id": "6b8700da-3714-4b7b-b2b5-27d7a79f39df",
   "metadata": {
    "scrolled": true
   },
   "outputs": [
    {
     "data": {
      "image/png": "[encoded data removed]",
      "text/plain": [
       "<Figure size 1600x300 with 1 Axes>"
      ]
     },
     "metadata": {},
     "output_type": "display_data"
    }
   ],
   "source": [
    "plt.figure(figsize=(16, 3))\n",
    "sns.countplot(x='Censor',data = df, palette='crest', hue='Censor', legend=False)\n",
    "\n",
    "plt.title('Distribution of Movies Based on Censorship')\n",
    "plt.xlabel('Censor')\n",
    "plt.ylabel('Count')\n",
    "plt.show()"
   ]
  },
  {
   "cell_type": "markdown",
   "id": "68da1b95-4f4b-41f4-bde9-f76546e268b0",
   "metadata": {},
   "source": [
    "<h2>Movie Recommendation System</h2>"
   ]
  },
  {
   "cell_type": "code",
   "execution_count": 9,
   "id": "787d5655-8206-4a82-b64b-feeff2212063",
   "metadata": {},
   "outputs": [
    {
     "data": {
      "text/html": [
       "<div>\n",
       "<style scoped>\n",
       "    .dataframe tbody tr th:only-of-type {\n",
       "        vertical-align: middle;\n",
       "    }\n",
       "\n",
       "    .dataframe tbody tr th {\n",
       "        vertical-align: top;\n",
       "    }\n",
       "\n",
       "    .dataframe thead th {\n",
       "        text-align: right;\n",
       "    }\n",
       "</style>\n",
       "<table border=\"1\" class=\"dataframe\">\n",
       "  <thead>\n",
       "    <tr style=\"text-align: right;\">\n",
       "      <th></th>\n",
       "      <th>main_genre_Action</th>\n",
       "      <th>main_genre_Adventure</th>\n",
       "      <th>main_genre_Animation</th>\n",
       "      <th>main_genre_Biography</th>\n",
       "      <th>main_genre_Comedy</th>\n",
       "      <th>main_genre_Crime</th>\n",
       "      <th>main_genre_Drama</th>\n",
       "      <th>main_genre_Fantasy</th>\n",
       "      <th>main_genre_Film-Noir</th>\n",
       "      <th>main_genre_Horror</th>\n",
       "      <th>...</th>\n",
       "      <th>Censor_NC-17</th>\n",
       "      <th>Censor_Not Rated</th>\n",
       "      <th>Censor_U</th>\n",
       "      <th>Censor_U/A</th>\n",
       "      <th>Censor_UA</th>\n",
       "      <th>Censor_UA 13+</th>\n",
       "      <th>Censor_UA 16+</th>\n",
       "      <th>Censor_UA 7+</th>\n",
       "      <th>Rating</th>\n",
       "      <th>Year</th>\n",
       "    </tr>\n",
       "  </thead>\n",
       "  <tbody>\n",
       "    <tr>\n",
       "      <th>0</th>\n",
       "      <td>True</td>\n",
       "      <td>False</td>\n",
       "      <td>False</td>\n",
       "      <td>False</td>\n",
       "      <td>False</td>\n",
       "      <td>False</td>\n",
       "      <td>False</td>\n",
       "      <td>False</td>\n",
       "      <td>False</td>\n",
       "      <td>False</td>\n",
       "      <td>...</td>\n",
       "      <td>False</td>\n",
       "      <td>False</td>\n",
       "      <td>False</td>\n",
       "      <td>False</td>\n",
       "      <td>True</td>\n",
       "      <td>False</td>\n",
       "      <td>False</td>\n",
       "      <td>False</td>\n",
       "      <td>2.715179</td>\n",
       "      <td>1.189900</td>\n",
       "    </tr>\n",
       "    <tr>\n",
       "      <th>1</th>\n",
       "      <td>True</td>\n",
       "      <td>False</td>\n",
       "      <td>False</td>\n",
       "      <td>False</td>\n",
       "      <td>False</td>\n",
       "      <td>False</td>\n",
       "      <td>False</td>\n",
       "      <td>False</td>\n",
       "      <td>False</td>\n",
       "      <td>False</td>\n",
       "      <td>...</td>\n",
       "      <td>False</td>\n",
       "      <td>False</td>\n",
       "      <td>False</td>\n",
       "      <td>False</td>\n",
       "      <td>True</td>\n",
       "      <td>False</td>\n",
       "      <td>False</td>\n",
       "      <td>False</td>\n",
       "      <td>2.394986</td>\n",
       "      <td>0.322998</td>\n",
       "    </tr>\n",
       "    <tr>\n",
       "      <th>2</th>\n",
       "      <td>True</td>\n",
       "      <td>False</td>\n",
       "      <td>False</td>\n",
       "      <td>False</td>\n",
       "      <td>False</td>\n",
       "      <td>False</td>\n",
       "      <td>False</td>\n",
       "      <td>False</td>\n",
       "      <td>False</td>\n",
       "      <td>False</td>\n",
       "      <td>...</td>\n",
       "      <td>False</td>\n",
       "      <td>False</td>\n",
       "      <td>True</td>\n",
       "      <td>False</td>\n",
       "      <td>False</td>\n",
       "      <td>False</td>\n",
       "      <td>False</td>\n",
       "      <td>False</td>\n",
       "      <td>2.394986</td>\n",
       "      <td>0.013390</td>\n",
       "    </tr>\n",
       "    <tr>\n",
       "      <th>3</th>\n",
       "      <td>True</td>\n",
       "      <td>False</td>\n",
       "      <td>False</td>\n",
       "      <td>False</td>\n",
       "      <td>False</td>\n",
       "      <td>False</td>\n",
       "      <td>False</td>\n",
       "      <td>False</td>\n",
       "      <td>False</td>\n",
       "      <td>False</td>\n",
       "      <td>...</td>\n",
       "      <td>False</td>\n",
       "      <td>False</td>\n",
       "      <td>False</td>\n",
       "      <td>False</td>\n",
       "      <td>True</td>\n",
       "      <td>False</td>\n",
       "      <td>False</td>\n",
       "      <td>False</td>\n",
       "      <td>2.181525</td>\n",
       "      <td>0.446841</td>\n",
       "    </tr>\n",
       "    <tr>\n",
       "      <th>4</th>\n",
       "      <td>True</td>\n",
       "      <td>False</td>\n",
       "      <td>False</td>\n",
       "      <td>False</td>\n",
       "      <td>False</td>\n",
       "      <td>False</td>\n",
       "      <td>False</td>\n",
       "      <td>False</td>\n",
       "      <td>False</td>\n",
       "      <td>False</td>\n",
       "      <td>...</td>\n",
       "      <td>False</td>\n",
       "      <td>False</td>\n",
       "      <td>False</td>\n",
       "      <td>False</td>\n",
       "      <td>True</td>\n",
       "      <td>False</td>\n",
       "      <td>False</td>\n",
       "      <td>False</td>\n",
       "      <td>2.181525</td>\n",
       "      <td>-0.048532</td>\n",
       "    </tr>\n",
       "  </tbody>\n",
       "</table>\n",
       "<p>5 rows × 7996 columns</p>\n",
       "</div>"
      ],
      "text/plain": [
       "   main_genre_Action  main_genre_Adventure  main_genre_Animation  \\\n",
       "0               True                 False                 False   \n",
       "1               True                 False                 False   \n",
       "2               True                 False                 False   \n",
       "3               True                 False                 False   \n",
       "4               True                 False                 False   \n",
       "\n",
       "   main_genre_Biography  main_genre_Comedy  main_genre_Crime  \\\n",
       "0                 False              False             False   \n",
       "1                 False              False             False   \n",
       "2                 False              False             False   \n",
       "3                 False              False             False   \n",
       "4                 False              False             False   \n",
       "\n",
       "   main_genre_Drama  main_genre_Fantasy  main_genre_Film-Noir  \\\n",
       "0             False               False                 False   \n",
       "1             False               False                 False   \n",
       "2             False               False                 False   \n",
       "3             False               False                 False   \n",
       "4             False               False                 False   \n",
       "\n",
       "   main_genre_Horror  ...  Censor_NC-17  Censor_Not Rated  Censor_U  \\\n",
       "0              False  ...         False             False     False   \n",
       "1              False  ...         False             False     False   \n",
       "2              False  ...         False             False      True   \n",
       "3              False  ...         False             False     False   \n",
       "4              False  ...         False             False     False   \n",
       "\n",
       "   Censor_U/A  Censor_UA  Censor_UA 13+  Censor_UA 16+  Censor_UA 7+  \\\n",
       "0       False       True          False          False         False   \n",
       "1       False       True          False          False         False   \n",
       "2       False      False          False          False         False   \n",
       "3       False       True          False          False         False   \n",
       "4       False       True          False          False         False   \n",
       "\n",
       "     Rating      Year  \n",
       "0  2.715179  1.189900  \n",
       "1  2.394986  0.322998  \n",
       "2  2.394986  0.013390  \n",
       "3  2.181525  0.446841  \n",
       "4  2.181525 -0.048532  \n",
       "\n",
       "[5 rows x 7996 columns]"
      ]
     },
     "execution_count": 9,
     "metadata": {},
     "output_type": "execute_result"
    }
   ],
   "source": [
    "def preprocess_data(df):\n",
    "    # One-hot encode categorical columns\n",
    "    categorical_cols = ['main_genre', 'side_genre', 'Director', 'Actors', 'Censor']\n",
    "    df_encoded = pd.get_dummies(df[categorical_cols])\n",
    "\n",
    "    # Scale numerical columns\n",
    "    numerical_cols = ['Rating','Year']\n",
    "    df_numerical = df[numerical_cols]\n",
    "    df_numerical = (df_numerical - df_numerical.mean()) / df_numerical.std()\n",
    "\n",
    "    # Combine all features\n",
    "    df_combined = pd.concat([df_encoded, df_numerical], axis=1)\n",
    "    \n",
    "    return df_combined\n",
    "\n",
    "df_combined = preprocess_data(df)\n",
    "df_combined.head()"
   ]
  },
  {
   "cell_type": "markdown",
   "id": "cd2f02b4-843e-4341-a81c-675882f13699",
   "metadata": {},
   "source": [
    "The `preprocess_data(df)` function converts the categorical columns (`main_genre`, `side_genre`, `Director`, `Actors`, `Censor`) into numerical format using one-hot encoding, creating binary columns for each unique category. It then normalizes the `Rating` and `Year` columns by subtracting the mean and dividing by the standard deviation, ensuring that the numerical data is on a similar scale. Finally, it combines the processed data into a single dataFrame, `df_combined`."
   ]
  },
  {
   "cell_type": "code",
   "execution_count": 10,
   "id": "3738cbf0-82f4-4e7e-a9f0-d459660aeba2",
   "metadata": {},
   "outputs": [],
   "source": [
    "def compute_similarity(df_combined):\n",
    "    similarity_matrix = cosine_similarity(df_combined)\n",
    "    \n",
    "    return similarity_matrix\n",
    "\n",
    "similarity_matrix = compute_similarity(df_combined)"
   ]
  },
  {
   "cell_type": "markdown",
   "id": "66bf65fa-0d67-4bcf-bcbe-df5d06540b09",
   "metadata": {},
   "source": [
    "The `compute_similarity(df_combined)` function calculates and returns a matrix of cosine similarity scores for all rows in `df_combined`, which helps in understanding the similarity between different movies based on their features.\n",
    "\n",
    "***Cosine Similarity*** : Measures the cosine of the angle between two non-zero vectors. In this context, it quantifies how similar two rows (or items) are to each other based on their features, with a value ranging from -1 (completely dissimilar) to 1 (completely similar)."
   ]
  },
  {
   "cell_type": "code",
   "execution_count": 18,
   "id": "c7c6a34b-c42a-49ad-bce0-c0c242e510dc",
   "metadata": {},
   "outputs": [],
   "source": [
    "def analyze_movie_similarity(movie_title, df, similarity_matrix, top_n=5):\n",
    "    movie_idx = df.index[df['Movie_Title'] == movie_title].tolist()[0]\n",
    "    \n",
    "    # Get the similarity scores for the movie\n",
    "    similarity_scores = similarity_matrix[movie_idx]\n",
    "    \n",
    "    # Sort indices based on similarity scores\n",
    "    # we use (index+1) because the first index is the movie itself\n",
    "    similar_movie_indices = np.argsort(-similarity_scores)[1:top_n+1]\n",
    "    \n",
    "    similar_movies = df.iloc[similar_movie_indices]\n",
    "    \n",
    "    result_df = pd.DataFrame({\n",
    "        'Movie_Title': similar_movies['Movie_Title'],\n",
    "        'Year': similar_movies['Year'],\n",
    "        'Director': similar_movies['Director'],\n",
    "        'Caste': similar_movies['Actors'],\n",
    "        'Rating': similar_movies['Rating'],\n",
    "        'Main_Genre': similar_movies['main_genre'],\n",
    "        'Side_Genre': similar_movies['side_genre'],\n",
    "        'Similarity_Score': similarity_scores[similar_movie_indices]\n",
    "    })\n",
    "    \n",
    "    return result_df\n",
    "\n",
    "def plot_similarity_scores(result_df, movie_title):\n",
    "    plt.figure(figsize=(7, 3))\n",
    "    sns.barplot(x=result_df['Movie_Title'], y=result_df['Similarity_Score'])\n",
    "    plt.title(f\"Similarity Scores for Top {len(result_df)} Movies Similar to '{movie_title}'\")\n",
    "    plt.xlabel(\"Movie Title\")\n",
    "    plt.ylabel(\"Similarity Score\")\n",
    "    plt.xticks(rotation=45)\n",
    "    plt.show()"
   ]
  },
  {
   "cell_type": "markdown",
   "id": "11801e9c-e823-4592-8564-4dbbb89ddbbe",
   "metadata": {},
   "source": [
    "The `analyze_movie_similarity(movie_title, df, similarity_matrix, top_n=5)` function provides a list of movies similar to the given movie, `movie_title`, based on similarity scores. It helps in recommending or exploring movies similar to a specified title by leveraging a precomputed similarity matrix.\n",
    "\n",
    "While, the `plot_similarity_scores(result_df, movie_title)` function visualizes a bar plot showing how similar each of the top movies is to a specified movie, making it easier to visually compare the similarity scores."
   ]
  },
  {
   "cell_type": "code",
   "execution_count": 19,
   "id": "3e246e30-a5a6-47be-9952-272970253098",
   "metadata": {},
   "outputs": [],
   "source": [
    "def similar_movies(df):\n",
    "    final_df = df.drop(['Similarity_Score'], axis=1)\n",
    "    return final_df"
   ]
  },
  {
   "cell_type": "markdown",
   "id": "34047cb0-a492-453e-890a-b7442d41c739",
   "metadata": {},
   "source": [
    "Finally, `similar_movies(df)` function prepares the dataset for the final output."
   ]
  },
  {
   "cell_type": "markdown",
   "id": "ca27d058-1cc2-4c63-9520-19b7c920ecd1",
   "metadata": {},
   "source": [
    "<h2>Recommending Movies</h2>"
   ]
  },
  {
   "cell_type": "code",
   "execution_count": 20,
   "id": "48614336-dac4-4210-908f-f259321429f2",
   "metadata": {},
   "outputs": [
    {
     "name": "stdin",
     "output_type": "stream",
     "text": [
      "Enter the name of movie?\n",
      " Kantara\n"
     ]
    }
   ],
   "source": [
    "movie_name = input(\"Enter the name of movie?\\n\")"
   ]
  },
  {
   "cell_type": "code",
   "execution_count": 21,
   "id": "a64ab2c2-3461-482a-818c-d442990f8d98",
   "metadata": {},
   "outputs": [
    {
     "data": {
      "image/png": "[encoded data removed]",
      "text/plain": [
       "<Figure size 700x300 with 1 Axes>"
      ]
     },
     "metadata": {},
     "output_type": "display_data"
    }
   ],
   "source": [
    "similar_movies_df = analyze_movie_similarity(movie_name, df, similarity_matrix, top_n=5)\n",
    "plot_similarity_scores(similar_movies_df, movie_name)"
   ]
  },
  {
   "cell_type": "code",
   "execution_count": 25,
   "id": "155dea68-8fdd-4f26-9c3a-5806fdc0c167",
   "metadata": {},
   "outputs": [
    {
     "name": "stdout",
     "output_type": "stream",
     "text": [
      "Finally, Movies similar to Kantara are : \n"
     ]
    },
    {
     "data": {
      "text/html": [
       "<div>\n",
       "<style scoped>\n",
       "    .dataframe tbody tr th:only-of-type {\n",
       "        vertical-align: middle;\n",
       "    }\n",
       "\n",
       "    .dataframe tbody tr th {\n",
       "        vertical-align: top;\n",
       "    }\n",
       "\n",
       "    .dataframe thead th {\n",
       "        text-align: right;\n",
       "    }\n",
       "</style>\n",
       "<table border=\"1\" class=\"dataframe\">\n",
       "  <thead>\n",
       "    <tr style=\"text-align: right;\">\n",
       "      <th></th>\n",
       "      <th>Movie_Title</th>\n",
       "      <th>Year</th>\n",
       "      <th>Director</th>\n",
       "      <th>Caste</th>\n",
       "      <th>Rating</th>\n",
       "      <th>Main_Genre</th>\n",
       "      <th>Side_Genre</th>\n",
       "    </tr>\n",
       "  </thead>\n",
       "  <tbody>\n",
       "    <tr>\n",
       "      <th>19</th>\n",
       "      <td>Avengers: Endgame</td>\n",
       "      <td>2019</td>\n",
       "      <td>Directors:Anthony Russo, Joe Russo</td>\n",
       "      <td>Robert Downey Jr., Chris Evans, Mark Ruffalo, ...</td>\n",
       "      <td>8.4</td>\n",
       "      <td>Action</td>\n",
       "      <td>Adventure,  Drama</td>\n",
       "    </tr>\n",
       "    <tr>\n",
       "      <th>4</th>\n",
       "      <td>The Lord of the Rings: The Two Towers</td>\n",
       "      <td>2002</td>\n",
       "      <td>Peter Jackson</td>\n",
       "      <td>Elijah Wood, Ian McKellen, Viggo Mortensen, Or...</td>\n",
       "      <td>8.8</td>\n",
       "      <td>Action</td>\n",
       "      <td>Adventure,  Drama</td>\n",
       "    </tr>\n",
       "    <tr>\n",
       "      <th>89</th>\n",
       "      <td>Dune: Part One</td>\n",
       "      <td>2021</td>\n",
       "      <td>Denis Villeneuve</td>\n",
       "      <td>Timothée Chalamet, Rebecca Ferguson, Zendaya, ...</td>\n",
       "      <td>8.0</td>\n",
       "      <td>Action</td>\n",
       "      <td>Adventure,  Drama</td>\n",
       "    </tr>\n",
       "    <tr>\n",
       "      <th>1</th>\n",
       "      <td>The Dark Knight</td>\n",
       "      <td>2008</td>\n",
       "      <td>Christopher Nolan</td>\n",
       "      <td>Christian Bale, Heath Ledger, Aaron Eckhart, M...</td>\n",
       "      <td>9.0</td>\n",
       "      <td>Action</td>\n",
       "      <td>Crime,  Drama</td>\n",
       "    </tr>\n",
       "    <tr>\n",
       "      <th>15</th>\n",
       "      <td>Gladiator</td>\n",
       "      <td>2000</td>\n",
       "      <td>Ridley Scott</td>\n",
       "      <td>Russell Crowe, Joaquin Phoenix, Connie Nielsen...</td>\n",
       "      <td>8.5</td>\n",
       "      <td>Action</td>\n",
       "      <td>Adventure,  Drama</td>\n",
       "    </tr>\n",
       "  </tbody>\n",
       "</table>\n",
       "</div>"
      ],
      "text/plain": [
       "                              Movie_Title  Year  \\\n",
       "19                      Avengers: Endgame  2019   \n",
       "4   The Lord of the Rings: The Two Towers  2002   \n",
       "89                         Dune: Part One  2021   \n",
       "1                         The Dark Knight  2008   \n",
       "15                              Gladiator  2000   \n",
       "\n",
       "                              Director  \\\n",
       "19  Directors:Anthony Russo, Joe Russo   \n",
       "4                        Peter Jackson   \n",
       "89                    Denis Villeneuve   \n",
       "1                    Christopher Nolan   \n",
       "15                        Ridley Scott   \n",
       "\n",
       "                                                Caste  Rating Main_Genre  \\\n",
       "19  Robert Downey Jr., Chris Evans, Mark Ruffalo, ...     8.4     Action   \n",
       "4   Elijah Wood, Ian McKellen, Viggo Mortensen, Or...     8.8     Action   \n",
       "89  Timothée Chalamet, Rebecca Ferguson, Zendaya, ...     8.0     Action   \n",
       "1   Christian Bale, Heath Ledger, Aaron Eckhart, M...     9.0     Action   \n",
       "15  Russell Crowe, Joaquin Phoenix, Connie Nielsen...     8.5     Action   \n",
       "\n",
       "            Side_Genre  \n",
       "19   Adventure,  Drama  \n",
       "4    Adventure,  Drama  \n",
       "89   Adventure,  Drama  \n",
       "1        Crime,  Drama  \n",
       "15   Adventure,  Drama  "
      ]
     },
     "execution_count": 25,
     "metadata": {},
     "output_type": "execute_result"
    }
   ],
   "source": [
    "print(\"Finally, Movies similar to\", movie_name, \"are : \")\n",
    "similar_movies(similar_movies_df)"
   ]
  },
  {
   "cell_type": "markdown",
   "id": "cb8ab665-c0b3-4f1a-a46d-774d5c7a783a",
   "metadata": {},
   "source": [
    "<h2>~Thank You~</h2>"
   ]
  }
 ],
 "metadata": {
  "kernelspec": {
   "display_name": "Python 3 (ipykernel)",
   "language": "python",
   "name": "python3"
  },
  "language_info": {
   "codemirror_mode": {
    "name": "ipython",
    "version": 3
   },
   "file_extension": ".py",
   "mimetype": "text/x-python",
   "name": "python",
   "nbconvert_exporter": "python",
   "pygments_lexer": "ipython3",
   "version": "3.12.4"
  }
 },
 "nbformat": 4,
 "nbformat_minor": 5
}
